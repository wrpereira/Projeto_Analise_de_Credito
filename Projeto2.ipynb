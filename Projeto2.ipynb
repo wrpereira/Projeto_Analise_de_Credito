{
 "cells": [
  {
   "cell_type": "markdown",
   "metadata": {},
   "source": [
    "# <font color='blue'>Data Science Academy</font>\n",
    "# <font color='blue'>Análise de Dados com Linguagem Python</font>\n",
    "\n",
    "## <font color='blue'>Projeto 2</font>\n",
    "## <font color='blue'>Análise de Dados de RH (Recursos Humanos)</font>"
   ]
  },
  {
   "cell_type": "markdown",
   "metadata": {},
   "source": [
    "**Não tenha pressa de chegar ao final. O aprendizado não está no final. O aprendizado está na jornada. Aproveite a jornada!**"
   ]
  },
  {
   "cell_type": "markdown",
   "metadata": {},
   "source": [
    "![title](imagens/Projeto2.png)"
   ]
  },
  {
   "cell_type": "markdown",
   "metadata": {},
   "source": [
    "## Pré-Requisitos\n",
    "\n",
    "Recomendamos que você tenha concluído pelo menos os 5 primeiros capítulos do curso gratuito de <a href=\"https://www.datascienceacademy.com.br/course?courseid=python-fundamentos\">Python Fundamentos Para Análise de Dados</a>."
   ]
  },
  {
   "cell_type": "markdown",
   "metadata": {},
   "source": [
    "## Instalando e Carregando os Pacotes"
   ]
  },
  {
   "cell_type": "code",
   "execution_count": null,
   "metadata": {},
   "outputs": [],
   "source": [
    "# Versão da Linguagem Python\n",
    "from platform import python_version\n",
    "print('Versão da Linguagem Python Usada Neste Jupyter Notebook:', python_version())"
   ]
  },
  {
   "cell_type": "code",
   "execution_count": null,
   "metadata": {},
   "outputs": [],
   "source": [
    "# Para atualizar um pacote, execute o comando abaixo no terminal ou prompt de comando:\n",
    "# pip install -U nome_pacote\n",
    "\n",
    "# Para instalar a versão exata de um pacote, execute o comando abaixo no terminal ou prompt de comando:\n",
    "# !pip install nome_pacote==versão_desejada\n",
    "\n",
    "# Depois de instalar ou atualizar o pacote, reinicie o jupyter notebook.\n",
    "\n",
    "# Instala o pacote watermark. \n",
    "# Esse pacote é usado para gravar as versões de outros pacotes usados neste jupyter notebook.\n",
    "!pip install -q -U watermark"
   ]
  },
  {
   "cell_type": "code",
   "execution_count": 1,
   "metadata": {},
   "outputs": [],
   "source": [
    "!pip install -q missingno"
   ]
  },
  {
   "cell_type": "code",
   "execution_count": 2,
   "metadata": {},
   "outputs": [],
   "source": [
    "!pip install -q category_encoders"
   ]
  },
  {
   "cell_type": "code",
   "execution_count": 3,
   "metadata": {},
   "outputs": [],
   "source": [
    "!pip install -q plotly"
   ]
  },
  {
   "cell_type": "code",
   "execution_count": 4,
   "metadata": {
    "ExecuteTime": {
     "end_time": "2021-09-13T07:25:28.577903Z",
     "start_time": "2021-09-13T07:25:28.555748Z"
    }
   },
   "outputs": [],
   "source": [
    "# Imports\n",
    "\n",
    "# Manipulação de dados\n",
    "import pandas as pd\n",
    "import numpy as np\n",
    "\n",
    "# Visualização\n",
    "import matplotlib.pyplot as plt\n",
    "import seaborn as sns\n",
    "import plotly.express as px\n",
    "import plotly.graph_objects as go\n",
    "from plotly.subplots import make_subplots\n",
    "import missingno\n",
    "\n",
    "# Estatística\n",
    "import scipy\n",
    "from scipy.stats import normaltest\n",
    "from scipy.stats import chi2_contingency\n",
    "\n",
    "# Engenharia de Atributos\n",
    "from sklearn.pipeline import Pipeline\n",
    "from sklearn.impute import SimpleImputer\n",
    "from sklearn.preprocessing import OneHotEncoder, LabelEncoder, OrdinalEncoder\n",
    "from sklearn.compose import ColumnTransformer\n",
    "import category_encoders as ce\n",
    "\n",
    "# Ignore Warning\n",
    "import sys\n",
    "import warnings\n",
    "if not sys.warnoptions:\n",
    "    warnings.simplefilter(\"ignore\")"
   ]
  },
  {
   "cell_type": "code",
   "execution_count": 5,
   "metadata": {},
   "outputs": [
    {
     "name": "stdout",
     "output_type": "stream",
     "text": [
      "Author: Data Science Academy\n",
      "\n",
      "numpy            : 1.26.4\n",
      "sys              : 3.11.7 | packaged by Anaconda, Inc. | (main, Dec 15 2023, 18:05:47) [MSC v.1916 64 bit (AMD64)]\n",
      "plotly           : 5.9.0\n",
      "scipy            : 1.11.4\n",
      "seaborn          : 0.12.2\n",
      "matplotlib       : 3.8.0\n",
      "category_encoders: 2.6.3\n",
      "pandas           : 2.1.4\n",
      "missingno        : 0.5.2\n",
      "\n"
     ]
    }
   ],
   "source": [
    "# Versões dos pacotes usados neste jupyter notebook\n",
    "%reload_ext watermark\n",
    "%watermark -a \"Data Science Academy\" --iversions"
   ]
  },
  {
   "cell_type": "markdown",
   "metadata": {},
   "source": [
    "## Carregando os Dados"
   ]
  },
  {
   "cell_type": "code",
   "execution_count": 6,
   "metadata": {},
   "outputs": [],
   "source": [
    "df = pd.read_csv('dataset/aug_train.csv')"
   ]
  },
  {
   "cell_type": "code",
   "execution_count": 7,
   "metadata": {},
   "outputs": [
    {
     "data": {
      "text/plain": [
       "(19158, 14)"
      ]
     },
     "execution_count": 7,
     "metadata": {},
     "output_type": "execute_result"
    }
   ],
   "source": [
    "df.shape"
   ]
  },
  {
   "cell_type": "code",
   "execution_count": 8,
   "metadata": {},
   "outputs": [
    {
     "data": {
      "text/plain": [
       "Index(['enrollee_id', 'city', 'city_development_index', 'gender',\n",
       "       'relevent_experience', 'enrolled_university', 'education_level',\n",
       "       'major_discipline', 'experience', 'company_size', 'company_type',\n",
       "       'last_new_job', 'training_hours', 'target'],\n",
       "      dtype='object')"
      ]
     },
     "execution_count": 8,
     "metadata": {},
     "output_type": "execute_result"
    }
   ],
   "source": [
    "#colunas\n",
    "df.columns\n"
   ]
  },
  {
   "cell_type": "code",
   "execution_count": 10,
   "metadata": {},
   "outputs": [
    {
     "data": {
      "text/html": [
       "<div>\n",
       "<style scoped>\n",
       "    .dataframe tbody tr th:only-of-type {\n",
       "        vertical-align: middle;\n",
       "    }\n",
       "\n",
       "    .dataframe tbody tr th {\n",
       "        vertical-align: top;\n",
       "    }\n",
       "\n",
       "    .dataframe thead th {\n",
       "        text-align: right;\n",
       "    }\n",
       "</style>\n",
       "<table border=\"1\" class=\"dataframe\">\n",
       "  <thead>\n",
       "    <tr style=\"text-align: right;\">\n",
       "      <th></th>\n",
       "      <th>enrollee_id</th>\n",
       "      <th>city</th>\n",
       "      <th>city_development_index</th>\n",
       "      <th>gender</th>\n",
       "      <th>relevent_experience</th>\n",
       "      <th>enrolled_university</th>\n",
       "      <th>education_level</th>\n",
       "      <th>major_discipline</th>\n",
       "      <th>experience</th>\n",
       "      <th>company_size</th>\n",
       "      <th>company_type</th>\n",
       "      <th>last_new_job</th>\n",
       "      <th>training_hours</th>\n",
       "      <th>target</th>\n",
       "    </tr>\n",
       "  </thead>\n",
       "  <tbody>\n",
       "    <tr>\n",
       "      <th>0</th>\n",
       "      <td>8949</td>\n",
       "      <td>city_103</td>\n",
       "      <td>0.920</td>\n",
       "      <td>Male</td>\n",
       "      <td>Has relevent experience</td>\n",
       "      <td>no_enrollment</td>\n",
       "      <td>Graduate</td>\n",
       "      <td>STEM</td>\n",
       "      <td>&gt;20</td>\n",
       "      <td>NaN</td>\n",
       "      <td>NaN</td>\n",
       "      <td>1</td>\n",
       "      <td>36</td>\n",
       "      <td>1.0</td>\n",
       "    </tr>\n",
       "    <tr>\n",
       "      <th>1</th>\n",
       "      <td>29725</td>\n",
       "      <td>city_40</td>\n",
       "      <td>0.776</td>\n",
       "      <td>Male</td>\n",
       "      <td>No relevent experience</td>\n",
       "      <td>no_enrollment</td>\n",
       "      <td>Graduate</td>\n",
       "      <td>STEM</td>\n",
       "      <td>15</td>\n",
       "      <td>50-99</td>\n",
       "      <td>Pvt Ltd</td>\n",
       "      <td>&gt;4</td>\n",
       "      <td>47</td>\n",
       "      <td>0.0</td>\n",
       "    </tr>\n",
       "    <tr>\n",
       "      <th>2</th>\n",
       "      <td>11561</td>\n",
       "      <td>city_21</td>\n",
       "      <td>0.624</td>\n",
       "      <td>NaN</td>\n",
       "      <td>No relevent experience</td>\n",
       "      <td>Full time course</td>\n",
       "      <td>Graduate</td>\n",
       "      <td>STEM</td>\n",
       "      <td>5</td>\n",
       "      <td>NaN</td>\n",
       "      <td>NaN</td>\n",
       "      <td>never</td>\n",
       "      <td>83</td>\n",
       "      <td>0.0</td>\n",
       "    </tr>\n",
       "    <tr>\n",
       "      <th>3</th>\n",
       "      <td>33241</td>\n",
       "      <td>city_115</td>\n",
       "      <td>0.789</td>\n",
       "      <td>NaN</td>\n",
       "      <td>No relevent experience</td>\n",
       "      <td>NaN</td>\n",
       "      <td>Graduate</td>\n",
       "      <td>Business Degree</td>\n",
       "      <td>&lt;1</td>\n",
       "      <td>NaN</td>\n",
       "      <td>Pvt Ltd</td>\n",
       "      <td>never</td>\n",
       "      <td>52</td>\n",
       "      <td>1.0</td>\n",
       "    </tr>\n",
       "    <tr>\n",
       "      <th>4</th>\n",
       "      <td>666</td>\n",
       "      <td>city_162</td>\n",
       "      <td>0.767</td>\n",
       "      <td>Male</td>\n",
       "      <td>Has relevent experience</td>\n",
       "      <td>no_enrollment</td>\n",
       "      <td>Masters</td>\n",
       "      <td>STEM</td>\n",
       "      <td>&gt;20</td>\n",
       "      <td>50-99</td>\n",
       "      <td>Funded Startup</td>\n",
       "      <td>4</td>\n",
       "      <td>8</td>\n",
       "      <td>0.0</td>\n",
       "    </tr>\n",
       "  </tbody>\n",
       "</table>\n",
       "</div>"
      ],
      "text/plain": [
       "   enrollee_id      city  city_development_index gender  \\\n",
       "0         8949  city_103                   0.920   Male   \n",
       "1        29725   city_40                   0.776   Male   \n",
       "2        11561   city_21                   0.624    NaN   \n",
       "3        33241  city_115                   0.789    NaN   \n",
       "4          666  city_162                   0.767   Male   \n",
       "\n",
       "       relevent_experience enrolled_university education_level  \\\n",
       "0  Has relevent experience       no_enrollment        Graduate   \n",
       "1   No relevent experience       no_enrollment        Graduate   \n",
       "2   No relevent experience    Full time course        Graduate   \n",
       "3   No relevent experience                 NaN        Graduate   \n",
       "4  Has relevent experience       no_enrollment         Masters   \n",
       "\n",
       "  major_discipline experience company_size    company_type last_new_job  \\\n",
       "0             STEM        >20          NaN             NaN            1   \n",
       "1             STEM         15        50-99         Pvt Ltd           >4   \n",
       "2             STEM          5          NaN             NaN        never   \n",
       "3  Business Degree         <1          NaN         Pvt Ltd        never   \n",
       "4             STEM        >20        50-99  Funded Startup            4   \n",
       "\n",
       "   training_hours  target  \n",
       "0              36     1.0  \n",
       "1              47     0.0  \n",
       "2              83     0.0  \n",
       "3              52     1.0  \n",
       "4               8     0.0  "
      ]
     },
     "execution_count": 10,
     "metadata": {},
     "output_type": "execute_result"
    }
   ],
   "source": [
    "#amostra das 5 primeiras linhas\n",
    "df.head()\n"
   ]
  },
  {
   "cell_type": "code",
   "execution_count": 11,
   "metadata": {},
   "outputs": [
    {
     "name": "stdout",
     "output_type": "stream",
     "text": [
      "<class 'pandas.core.frame.DataFrame'>\n",
      "RangeIndex: 19158 entries, 0 to 19157\n",
      "Data columns (total 14 columns):\n",
      " #   Column                  Non-Null Count  Dtype  \n",
      "---  ------                  --------------  -----  \n",
      " 0   enrollee_id             19158 non-null  int64  \n",
      " 1   city                    19158 non-null  object \n",
      " 2   city_development_index  19158 non-null  float64\n",
      " 3   gender                  14650 non-null  object \n",
      " 4   relevent_experience     19158 non-null  object \n",
      " 5   enrolled_university     18772 non-null  object \n",
      " 6   education_level         18698 non-null  object \n",
      " 7   major_discipline        16345 non-null  object \n",
      " 8   experience              19093 non-null  object \n",
      " 9   company_size            13220 non-null  object \n",
      " 10  company_type            13018 non-null  object \n",
      " 11  last_new_job            18735 non-null  object \n",
      " 12  training_hours          19158 non-null  int64  \n",
      " 13  target                  19158 non-null  float64\n",
      "dtypes: float64(2), int64(2), object(10)\n",
      "memory usage: 2.0+ MB\n"
     ]
    }
   ],
   "source": [
    "#info\n",
    "\n",
    "df.info()"
   ]
  },
  {
   "cell_type": "code",
   "execution_count": null,
   "metadata": {},
   "outputs": [],
   "source": [
    "df.tail()"
   ]
  },
  {
   "cell_type": "code",
   "execution_count": null,
   "metadata": {},
   "outputs": [],
   "source": [
    "df.info()"
   ]
  },
  {
   "cell_type": "markdown",
   "metadata": {},
   "source": [
    "## Análise Exploratória de Dados"
   ]
  },
  {
   "cell_type": "code",
   "execution_count": 1,
   "metadata": {},
   "outputs": [
    {
     "ename": "NameError",
     "evalue": "name 'df' is not defined",
     "output_type": "error",
     "traceback": [
      "\u001b[1;31m---------------------------------------------------------------------------\u001b[0m",
      "\u001b[1;31mNameError\u001b[0m                                 Traceback (most recent call last)",
      "Cell \u001b[1;32mIn[1], line 3\u001b[0m\n\u001b[0;32m      1\u001b[0m \u001b[38;5;66;03m#Descrevendo os dados numéricos\u001b[39;00m\n\u001b[1;32m----> 3\u001b[0m df\u001b[38;5;241m.\u001b[39mdescribe(include\u001b[38;5;241m=\u001b[39m\u001b[38;5;28mobject\u001b[39m)\n",
      "\u001b[1;31mNameError\u001b[0m: name 'df' is not defined"
     ]
    }
   ],
   "source": [
    "#Descrevendo os dados numéricos\n",
    "\n",
    "df.describe(include=object)"
   ]
  },
  {
   "cell_type": "code",
   "execution_count": null,
   "metadata": {},
   "outputs": [],
   "source": []
  },
  {
   "cell_type": "code",
   "execution_count": null,
   "metadata": {},
   "outputs": [],
   "source": []
  },
  {
   "cell_type": "code",
   "execution_count": null,
   "metadata": {},
   "outputs": [],
   "source": []
  },
  {
   "cell_type": "code",
   "execution_count": null,
   "metadata": {},
   "outputs": [],
   "source": []
  },
  {
   "cell_type": "code",
   "execution_count": null,
   "metadata": {},
   "outputs": [],
   "source": []
  },
  {
   "cell_type": "code",
   "execution_count": null,
   "metadata": {},
   "outputs": [],
   "source": []
  },
  {
   "cell_type": "code",
   "execution_count": null,
   "metadata": {},
   "outputs": [],
   "source": []
  },
  {
   "cell_type": "code",
   "execution_count": null,
   "metadata": {},
   "outputs": [],
   "source": []
  },
  {
   "cell_type": "code",
   "execution_count": null,
   "metadata": {
    "ExecuteTime": {
     "end_time": "2021-09-13T07:25:28.845587Z",
     "start_time": "2021-09-13T07:25:28.745277Z"
    },
    "scrolled": true
   },
   "outputs": [],
   "source": [
    "# Descrevendo os dados não numéricos\n",
    "df.describe(include = object)"
   ]
  },
  {
   "cell_type": "code",
   "execution_count": null,
   "metadata": {
    "ExecuteTime": {
     "end_time": "2021-09-13T07:25:28.894598Z",
     "start_time": "2021-09-13T07:25:28.846587Z"
    }
   },
   "outputs": [],
   "source": [
    "# Descrevendo os dados numéricos\n",
    "df.describe().drop(columns = ['enrollee_id', 'target'])"
   ]
  },
  {
   "cell_type": "markdown",
   "metadata": {},
   "source": [
    "* Em **city_development_index** (CDI), os valores médios são 0,828, mediana 0,903 e std 0,123. Isso significa que a maioria dos candidatos é de cidades bem desenvolvidas.\n",
    "\n",
    "\n",
    "* Em **training_hours**, os valores médios são 65,367, mediana 47 e max 336. Isso significa que há mais candidatos com poucas horas de treinamento, mas alguns candidatos gastam muito tempo para fazer o treinamento."
   ]
  },
  {
   "cell_type": "markdown",
   "metadata": {
    "ExecuteTime": {
     "end_time": "2021-09-08T11:32:11.495969Z",
     "start_time": "2021-09-08T11:32:11.480299Z"
    }
   },
   "source": [
    "### Visualizando as Variáveis Categóricas"
   ]
  },
  {
   "cell_type": "code",
   "execution_count": null,
   "metadata": {},
   "outputs": [],
   "source": [
    "list(df.columns.values)[3:12]"
   ]
  },
  {
   "cell_type": "code",
   "execution_count": null,
   "metadata": {
    "ExecuteTime": {
     "end_time": "2021-09-13T07:25:35.343203Z",
     "start_time": "2021-09-13T07:25:28.898536Z"
    }
   },
   "outputs": [],
   "source": [
    "# Plot\n",
    "\n",
    "# Tamanho da figura\n",
    "plt.figure(figsize = (18,30))\n",
    "\n",
    "# Lista de colunas\n",
    "column_list = list(df.columns.values)[3:12]\n",
    "\n",
    "# Contador\n",
    "A = 0\n",
    "\n",
    "# Loop\n",
    "for i in column_list:\n",
    "    A += 1\n",
    "    plt.subplot(5, 2, A)\n",
    "    ax = sns.countplot(data = df.fillna('NaN'), x = i)\n",
    "    plt.title(i, fontsize = 15)\n",
    "    for p in ax.patches:\n",
    "        ax.annotate(f'\\n{p.get_height()}', (p.get_x()+0.4, p.get_height()), ha = 'center', color = 'black', size = 12)\n",
    "    if A >= 7:\n",
    "        plt.xticks(rotation = 45)\n",
    "\n",
    "# Layout\n",
    "plt.tight_layout(h_pad = 2)"
   ]
  },
  {
   "cell_type": "markdown",
   "metadata": {},
   "source": [
    "### Verificando a Distribuição das Variáveis Numéricas"
   ]
  },
  {
   "cell_type": "code",
   "execution_count": null,
   "metadata": {},
   "outputs": [],
   "source": [
    "# Descrevendo os dados numéricos\n",
    "df.describe().drop(columns = ['enrollee_id', 'target'])"
   ]
  },
  {
   "cell_type": "code",
   "execution_count": null,
   "metadata": {
    "ExecuteTime": {
     "end_time": "2021-09-13T07:25:37.290005Z",
     "start_time": "2021-09-13T07:25:35.345199Z"
    }
   },
   "outputs": [],
   "source": [
    "# Figura\n",
    "plt.figure(figsize = (17,12))\n",
    "\n",
    "# Subplots com histogramas\n",
    "plt.subplot(221)\n",
    "sns.color_palette(\"hls\", 8)\n",
    "sns.histplot(df['city_development_index'], kde = True, color = \"green\")\n",
    "plt.title('Histograma do CDI', fontsize = 20)\n",
    "\n",
    "plt.subplot(222)\n",
    "sns.histplot(df['training_hours'], kde = True, color = \"magenta\")\n",
    "plt.title('Histograma das Horas de Treinamento', fontsize = 20)\n",
    "\n",
    "# Subplots com boxplots\n",
    "plt.subplot(223)\n",
    "sns.boxplot(df['city_development_index'], color = \"green\")\n",
    "\n",
    "plt.subplot(224)\n",
    "sns.boxplot(df['training_hours'], color = \"magenta\")\n",
    "\n",
    "plt.show()"
   ]
  },
  {
   "cell_type": "markdown",
   "metadata": {},
   "source": [
    "Em Estatística, a distribuição normal é uma das distribuições de probabilidade mais utilizadas para modelar fenômenos naturais. Isso se deve ao fato de que um grande número de fenômenos naturais apresenta sua distribuição de probabilidade tão proximamente normal, que a ela pode ser com sucesso referida, e, portanto, com adequado acerto por ela representada como se normal fosse.\n",
    "\n",
    "A distribuição normal, também conhecida como distribuição gaussiana, é uma curva simétrica em torno do seu ponto médio, apresentando assim seu famoso formato de sino.\n",
    "\n",
    "Uma distribuição estatística é uma função que define uma curva, e a área sob essa curva determina a probabilidade de ocorrer o evento por ela correlacionado.\n",
    "\n",
    "E o que é distribuição normal? É a mais importante dentre as distribuições estatísticas.\n",
    "\n",
    "A curva de distribuição normal representa o comportamento de diversos processos nas empresas e muitos fenômenos comuns, como por exemplo, altura ou peso de uma população, a pressão sanguínea de um grupo de pessoas, o tempo que um grupo de estudantes gasta para realizar uma prova.\n",
    "\n",
    "A distribuição normal pode ser usada para aproximar distribuições discretas de probabilidade, como por exemplo a distribuição binomial. Além disso, a distribuição normal serve também como base para a inferência estatística clássica.\n",
    "\n",
    "Nela, a média, mediana e moda dos dados possuem o mesmo valor."
   ]
  },
  {
   "cell_type": "markdown",
   "metadata": {},
   "source": [
    "![title](imagens/normal.png)"
   ]
  },
  {
   "cell_type": "markdown",
   "metadata": {},
   "source": [
    "![title](imagens/boxplot.jpg)"
   ]
  },
  {
   "cell_type": "code",
   "execution_count": null,
   "metadata": {
    "ExecuteTime": {
     "end_time": "2021-09-13T07:25:37.332710Z",
     "start_time": "2021-09-13T07:25:37.297394Z"
    }
   },
   "outputs": [],
   "source": [
    "# Teste de Normalidade da Distribuição\n",
    "\n",
    "# Lista com as variáveis numéricas\n",
    "numerical_feature = ['city_development_index', 'training_hours']\n",
    "\n",
    "# Loop\n",
    "for i in numerical_feature:\n",
    "    \n",
    "    # Calcula a normalidade\n",
    "    stats, pval = normaltest(df[i])\n",
    "    \n",
    "     # Checar valor-p\n",
    "    if pval > 0.05:\n",
    "        print(i, ': Distribuição Normal')\n",
    "    else:\n",
    "        print(i, ': Distribuição Não Normal')"
   ]
  },
  {
   "cell_type": "markdown",
   "metadata": {},
   "source": [
    "* As variáveis **city_development_index** e **training_hours** não seguem a distribuição normal. Para a análise numérica, usaremos o método não paramétrico.\n",
    "\n",
    "\n",
    "* Dados de **training_hours** estão localizados principalmente no lado esquerdo do histograma. É um comportamento esperado porque as pessoas geralmente ficam animadas ao fazer o treinamento no início, mas nem todos que começam conseguem terminar uma maratona. ;-)"
   ]
  },
  {
   "cell_type": "markdown",
   "metadata": {},
   "source": [
    "### Correlação dos Dados"
   ]
  },
  {
   "cell_type": "markdown",
   "metadata": {},
   "source": [
    "#### Correlação de Spearman Entre Variáveis Numéricas\n",
    "\n",
    "Analisamos a correlação entre as variáveis numéricas e entre as variáveis numéricas e a variável alvo (o que estamos querendo analisar)."
   ]
  },
  {
   "cell_type": "code",
   "execution_count": null,
   "metadata": {},
   "outputs": [],
   "source": [
    "df.head()"
   ]
  },
  {
   "cell_type": "code",
   "execution_count": null,
   "metadata": {},
   "outputs": [],
   "source": [
    "df.columns"
   ]
  },
  {
   "cell_type": "code",
   "execution_count": null,
   "metadata": {},
   "outputs": [],
   "source": [
    "# Criamos uma cópia do dataframe original\n",
    "df_numerical = df.copy()"
   ]
  },
  {
   "cell_type": "code",
   "execution_count": null,
   "metadata": {},
   "outputs": [],
   "source": [
    "df_numerical[\"experience\"].value_counts()"
   ]
  },
  {
   "cell_type": "code",
   "execution_count": null,
   "metadata": {},
   "outputs": [],
   "source": [
    "# Convertemos a variável experience para numérica\n",
    "df_numerical[\"experience\"] = np.where(df_numerical[\"experience\"] == \"<1\", 1, df_numerical[\"experience\"])\n",
    "df_numerical[\"experience\"] = np.where(df_numerical[\"experience\"] == \">20\", 21, df_numerical[\"experience\"])\n",
    "df_numerical[\"experience\"] = df_numerical[\"experience\"].astype(float)"
   ]
  },
  {
   "cell_type": "code",
   "execution_count": null,
   "metadata": {},
   "outputs": [],
   "source": [
    "df_numerical[\"experience\"].value_counts()"
   ]
  },
  {
   "cell_type": "code",
   "execution_count": null,
   "metadata": {},
   "outputs": [],
   "source": [
    "df_numerical[\"last_new_job\"].value_counts()"
   ]
  },
  {
   "cell_type": "code",
   "execution_count": null,
   "metadata": {
    "ExecuteTime": {
     "end_time": "2021-09-13T07:25:37.456630Z",
     "start_time": "2021-09-13T07:25:37.335716Z"
    },
    "scrolled": true
   },
   "outputs": [],
   "source": [
    "# Convertemos a variável last_new_job para numérica\n",
    "df_numerical[\"last_new_job\"] = np.where(df_numerical[\"last_new_job\"] == \"never\", 0, df_numerical[\"last_new_job\"])\n",
    "df_numerical[\"last_new_job\"] = np.where(df_numerical[\"last_new_job\"] == \">4\", 5, df_numerical[\"last_new_job\"])\n",
    "df_numerical[\"last_new_job\"] = df_numerical[\"last_new_job\"].astype(float)"
   ]
  },
  {
   "cell_type": "code",
   "execution_count": null,
   "metadata": {},
   "outputs": [],
   "source": [
    "df_numerical[\"last_new_job\"].value_counts()"
   ]
  },
  {
   "cell_type": "code",
   "execution_count": null,
   "metadata": {},
   "outputs": [],
   "source": [
    "df_numerical.head()"
   ]
  },
  {
   "cell_type": "code",
   "execution_count": null,
   "metadata": {},
   "outputs": [],
   "source": [
    "df_numerical.info()"
   ]
  },
  {
   "cell_type": "code",
   "execution_count": null,
   "metadata": {},
   "outputs": [],
   "source": [
    "df_numerical.drop(\"enrollee_id\", axis = 1).corr(\"spearman\")"
   ]
  },
  {
   "cell_type": "code",
   "execution_count": null,
   "metadata": {
    "ExecuteTime": {
     "end_time": "2021-09-13T07:25:38.437050Z",
     "start_time": "2021-09-13T07:25:37.467782Z"
    }
   },
   "outputs": [],
   "source": [
    "# Heatmap\n",
    "plt.figure(figsize = (7,7))\n",
    "sns.heatmap(df_numerical.drop(\"enrollee_id\", axis = 1).corr(\"spearman\"), annot = True, cmap = \"YlGnBu\")\n",
    "plt.title(\"Mapa de Correlação das Variáveis Numéricas\\n\", fontsize = 15)\n",
    "plt.show()"
   ]
  },
  {
   "cell_type": "markdown",
   "metadata": {},
   "source": [
    "Pela correlação de spearman, last_new_job e experience têm correlação média (0,473), enquanto outros têm correlação fraca.\n",
    "\n",
    "As variáveis last_new_job e training_hours tem correlação próxima de zero com a variável alvo e poderiam ser descartadas.\n",
    "\n",
    "Para a relação entre as variáveis categóricas e a variável alvo, usaremos WOE e IV."
   ]
  },
  {
   "cell_type": "markdown",
   "metadata": {
    "ExecuteTime": {
     "end_time": "2021-09-08T11:36:41.505767Z",
     "start_time": "2021-09-08T11:36:41.485588Z"
    }
   },
   "source": [
    "### Weight of Evidence (WOE) e Information Value (IV)\n",
    "\n",
    "Este conjunto de dados contém mais dados com tipo categórico do que tipo numérico. Usaremos recursos categóricos nominais para WOE e IV."
   ]
  },
  {
   "cell_type": "markdown",
   "metadata": {},
   "source": [
    "Interpretamos o resultado de IV assim:\n",
    "\n",
    "    Information Value, Poder de Previsão\n",
    "    \n",
    "    < 0.02, não deve ser usado para previsão\n",
    "    0.02 - 0.1, preditor fraco\n",
    "    0.1 - 0.3, preditor médio\n",
    "    0.3 - 0.5, preditor forte\n",
    "    > 0.5, parece bom demais para ser verdade"
   ]
  },
  {
   "cell_type": "code",
   "execution_count": null,
   "metadata": {
    "ExecuteTime": {
     "end_time": "2021-09-13T07:25:38.726942Z",
     "start_time": "2021-09-13T07:25:38.441221Z"
    }
   },
   "outputs": [],
   "source": [
    "# Loop\n",
    "for i in df.drop(columns = ['target',\n",
    "                            'enrollee_id',\n",
    "                            'city',\n",
    "                            'city_development_index',\n",
    "                            'training_hours',\n",
    "                            'experience',\n",
    "                            'last_new_job',\n",
    "                            'company_size']).columns:\n",
    "    \n",
    "    df_woe_iv = (pd.crosstab(df[i], df['target'], normalize = 'columns')\n",
    "                 .assign(woe = lambda dfx: np.log(dfx[1] / dfx[0]))\n",
    "                 .assign(iv = lambda dfx: np.sum(dfx['woe'] * (dfx[1]-dfx[0]))))\n",
    "    \n",
    "    print(df_woe_iv,'\\n------------------------------------------------------------')"
   ]
  },
  {
   "cell_type": "code",
   "execution_count": null,
   "metadata": {
    "ExecuteTime": {
     "end_time": "2021-09-13T07:25:39.485236Z",
     "start_time": "2021-09-13T07:25:38.732830Z"
    }
   },
   "outputs": [],
   "source": [
    "# Plot do Information Value\n",
    "\n",
    "# Variáveis categóricas\n",
    "columns_cat = df.drop(columns = ['target',\n",
    "                                 'enrollee_id',\n",
    "                                 'city',\n",
    "                                 'city_development_index',\n",
    "                                 'training_hours',\n",
    "                                 'experience',\n",
    "                                 'last_new_job',\n",
    "                                 'company_size']).columns\n",
    "\n",
    "# Lista para o IV\n",
    "iv = []\n",
    "\n",
    "# Loop\n",
    "for i in columns_cat:\n",
    "    df_woe_iv = (pd.crosstab(df[i], df['target'], normalize = 'columns')\n",
    "                 .assign(woe = lambda dfx: np.log(dfx[1] / dfx[0]))\n",
    "                 .assign(iv = lambda dfx: np.sum(dfx['woe']*(dfx[1]-dfx[0]))))\n",
    "    iv.append(df_woe_iv['iv'][0])\n",
    "\n",
    "# Dataframe\n",
    "df_iv = pd.DataFrame({'Features':columns_cat,'iv':iv}).set_index('Features').sort_values(by = 'iv')\n",
    "\n",
    "# Plot\n",
    "# Figura\n",
    "plt.figure(figsize = (10,12))\n",
    "df_iv.plot(kind = 'barh', title = 'Information Value das Variáveis Categóricas', colormap = \"Accent\")\n",
    "for index, value in enumerate(list(round(df_iv[\"iv\"],3))):\n",
    "    plt.text((value), index, str(value))\n",
    "plt.legend(loc  = \"lower right\")\n",
    "plt.show()"
   ]
  },
  {
   "cell_type": "markdown",
   "metadata": {
    "ExecuteTime": {
     "end_time": "2021-09-06T02:35:44.200866Z",
     "start_time": "2021-09-06T02:35:44.179427Z"
    }
   },
   "source": [
    "* No gráfico acima, podemos ver a ordem dos recursos com base em seu poder preditivo em relação ao alvo.\n",
    "* Com base em seu valor IV, `enrolled_university` é um preditor médio, `relevent_experience` e `education_level` são preditores fracos e os outros são inúteis para a previsão."
   ]
  },
  {
   "cell_type": "markdown",
   "metadata": {},
   "source": [
    "### Identificando Valores Ausentes"
   ]
  },
  {
   "cell_type": "code",
   "execution_count": null,
   "metadata": {
    "ExecuteTime": {
     "end_time": "2021-09-13T07:25:40.437063Z",
     "start_time": "2021-09-13T07:25:39.494946Z"
    }
   },
   "outputs": [],
   "source": [
    "# Valores ausentes por coluna\n",
    "null_df = df.isna().sum().reset_index()\n",
    "\n",
    "# Figura\n",
    "ax = plt.figure(figsize = (15,5))\n",
    "\n",
    "# Barplot\n",
    "ax = sns.barplot(null_df['index'], null_df[0], palette = 'husl')\n",
    "plt.xlabel('Atributos', fontsize = 12)\n",
    "plt.ylabel('Contagem de Valores Ausentes', fontsize = 12)\n",
    "plt.xticks(rotation = 45)\n",
    "plt.title(\"Plot de Valores Ausentes\", fontsize = 15)\n",
    "\n",
    "for p in ax.patches:\n",
    "    ax.annotate(f'\\n{p.get_height()}', (p.get_x()+0.4, (p.get_height())), ha = 'center', color = 'black', size = 11)\n",
    "\n",
    "plt.show()"
   ]
  },
  {
   "cell_type": "code",
   "execution_count": null,
   "metadata": {
    "ExecuteTime": {
     "end_time": "2021-09-13T07:25:41.284580Z",
     "start_time": "2021-09-13T07:25:40.439542Z"
    }
   },
   "outputs": [],
   "source": [
    "# Gera a visualização\n",
    "\n",
    "# Dataframe\n",
    "df_nan = pd.DataFrame(df.isna().sum())\n",
    "\n",
    "# Plot - Mapa de Valores Ausentes\n",
    "if df.isna().any(axis = None):\n",
    "    missingno.matrix(df[df_nan[df_nan[0]>0].index])\n",
    "    plt.show()"
   ]
  },
  {
   "cell_type": "markdown",
   "metadata": {},
   "source": [
    "Valores ausentes em cada coluna têm um padrão aleatório."
   ]
  },
  {
   "cell_type": "markdown",
   "metadata": {},
   "source": [
    "### Identificando Valores Duplicados"
   ]
  },
  {
   "cell_type": "code",
   "execution_count": null,
   "metadata": {
    "ExecuteTime": {
     "end_time": "2021-09-13T07:25:41.302457Z",
     "start_time": "2021-09-13T07:25:41.287099Z"
    }
   },
   "outputs": [],
   "source": [
    "# Checando valores duplicados (não há)\n",
    "df['enrollee_id'].duplicated().sum()"
   ]
  },
  {
   "cell_type": "markdown",
   "metadata": {},
   "source": [
    "### Identificando Dados Desbalanceados"
   ]
  },
  {
   "cell_type": "code",
   "execution_count": null,
   "metadata": {
    "ExecuteTime": {
     "end_time": "2021-09-13T07:25:41.770151Z",
     "start_time": "2021-09-13T07:25:41.305673Z"
    }
   },
   "outputs": [],
   "source": [
    "# Figura\n",
    "plt.figure(figsize = (17,(100)/20))\n",
    "\n",
    "plt.subplot(121)\n",
    "\n",
    "plt.pie(round(df['target'].value_counts() / len(df) * 100, 2),\n",
    "        labels = list(df['target'].value_counts().index),\n",
    "        autopct = \"%.2f%%\",\n",
    "        explode = (0,0.1))\n",
    "\n",
    "plt.axis(\"equal\")\n",
    "plt.title(\"Target Imbalance Ratio\", size = 15)\n",
    "\n",
    "plt.subplot(122)\n",
    "ax = sns.countplot(data = df, x = 'target')\n",
    "plt.title(\"Barplot Target Label\", fontsize = 15)\n",
    "for p in ax.patches:\n",
    "    ax.annotate(f'\\n{p.get_height()}', \n",
    "                (p.get_x()+0.4, \n",
    "                 p.get_height()), \n",
    "                ha = 'center', \n",
    "                va = 'top', \n",
    "                color = 'white', \n",
    "                size = 12)"
   ]
  },
  {
   "cell_type": "markdown",
   "metadata": {},
   "source": [
    "Os dados estão desbalanceados em relação à variável target."
   ]
  },
  {
   "cell_type": "markdown",
   "metadata": {},
   "source": [
    "## Limpeza e Processamento dos Dados\n",
    "\n",
    "Em que momento fazemos a limpeza dos dados?"
   ]
  },
  {
   "cell_type": "markdown",
   "metadata": {
    "ExecuteTime": {
     "end_time": "2021-09-03T14:00:47.141805Z",
     "start_time": "2021-09-03T14:00:47.135202Z"
    }
   },
   "source": [
    "### Tratando os Valores Ausentes"
   ]
  },
  {
   "cell_type": "code",
   "execution_count": null,
   "metadata": {},
   "outputs": [],
   "source": [
    "df.columns"
   ]
  },
  {
   "cell_type": "code",
   "execution_count": null,
   "metadata": {},
   "outputs": [],
   "source": [
    "colunas_manter = ['city_development_index', \n",
    "                  'experience', \n",
    "                  'enrolled_university', \n",
    "                  'relevent_experience', \n",
    "                  'education_level',\n",
    "                  'company_type',\n",
    "                  'major_discipline',\n",
    "                  'target']"
   ]
  },
  {
   "cell_type": "code",
   "execution_count": null,
   "metadata": {},
   "outputs": [],
   "source": [
    "new_df = df[colunas_manter]"
   ]
  },
  {
   "cell_type": "code",
   "execution_count": null,
   "metadata": {},
   "outputs": [],
   "source": [
    "new_df.head()"
   ]
  },
  {
   "cell_type": "code",
   "execution_count": null,
   "metadata": {},
   "outputs": [],
   "source": [
    "df.head()"
   ]
  },
  {
   "cell_type": "code",
   "execution_count": null,
   "metadata": {},
   "outputs": [],
   "source": [
    "# Valores ausentes por coluna\n",
    "null_df = new_df.isna().sum().reset_index()\n",
    "\n",
    "# Figura\n",
    "ax = plt.figure(figsize = (15,6))\n",
    "\n",
    "# Barplot\n",
    "ax = sns.barplot(null_df['index'], null_df[0], palette = 'husl')\n",
    "plt.xlabel('Atributos', fontsize = 12)\n",
    "plt.ylabel('Contagem de Valores Ausentes', fontsize = 12)\n",
    "plt.xticks(rotation = 45)\n",
    "plt.title(\"Plot de Valores Ausentes\", fontsize = 15)\n",
    "\n",
    "for p in ax.patches:\n",
    "    ax.annotate(f'\\n{p.get_height()}', (p.get_x()+0.4, (p.get_height())), ha = 'center', color = 'black', size = 11)\n",
    "\n",
    "plt.show()"
   ]
  },
  {
   "cell_type": "markdown",
   "metadata": {},
   "source": [
    "#### Variável major_discipline"
   ]
  },
  {
   "cell_type": "code",
   "execution_count": null,
   "metadata": {
    "ExecuteTime": {
     "end_time": "2021-09-13T07:25:53.616665Z",
     "start_time": "2021-09-13T07:25:53.234057Z"
    }
   },
   "outputs": [],
   "source": [
    "# Valores Ausentes da Variável major_discipline Antes do Processamento\n",
    "sns.countplot(data = new_df.fillna('NaN'), x = 'major_discipline', alpha = 0.7, edgecolor = 'black')\n",
    "plt.xticks(rotation = 45)\n",
    "bound = ax.get_xbound()\n",
    "ax = plt.gca()\n",
    "for p in ax.patches:\n",
    "    ax.annotate(f'\\n{p.get_height()}', (p.get_x()+0.4, p.get_height()), ha = 'center', color = 'black', size = 10)\n",
    "plt.title(\"Valores Ausentes da Variável major_discipline Antes do Processamento\\n\", fontsize = 15)\n",
    "plt.show()"
   ]
  },
  {
   "cell_type": "code",
   "execution_count": null,
   "metadata": {
    "ExecuteTime": {
     "end_time": "2021-09-13T07:25:53.649211Z",
     "start_time": "2021-09-13T07:25:53.619865Z"
    },
    "scrolled": true
   },
   "outputs": [],
   "source": [
    "# Relação entre major_discipline x education_level\n",
    "print('\\nTotal de Valores Ausentes na Variável major_discipline:', new_df['major_discipline'].isna().sum())\n",
    "print('\\nProporção de Valores Ausentes na Variável education_level:')\n",
    "new_df[new_df['major_discipline'].isna()]['education_level'].value_counts(dropna = False)"
   ]
  },
  {
   "cell_type": "markdown",
   "metadata": {},
   "source": [
    "Dentre os registros com valores ausentes, vemos a proporção na variável education_level.\n",
    "\n",
    "Preencheremos os valores NA da variável `major_discipline` com `Non Degree`."
   ]
  },
  {
   "cell_type": "code",
   "execution_count": null,
   "metadata": {
    "ExecuteTime": {
     "end_time": "2021-09-13T07:25:53.672859Z",
     "start_time": "2021-09-13T07:25:53.652606Z"
    }
   },
   "outputs": [],
   "source": [
    "# Cria o índice\n",
    "nan_index = (new_df[(new_df['major_discipline'].isna()) & ((new_df['education_level']=='High School') | (new_df['education_level'].isna()) | (new_df['education_level']=='Primary School'))]).index\n"
   ]
  },
  {
   "cell_type": "code",
   "execution_count": null,
   "metadata": {},
   "outputs": [],
   "source": [
    "len(nan_index)"
   ]
  },
  {
   "cell_type": "code",
   "execution_count": null,
   "metadata": {},
   "outputs": [],
   "source": [
    "# Imputação do valor ausente\n",
    "new_df['major_discipline'][nan_index] = 'Non Degree'"
   ]
  },
  {
   "cell_type": "code",
   "execution_count": null,
   "metadata": {
    "ExecuteTime": {
     "end_time": "2021-09-13T07:25:53.700994Z",
     "start_time": "2021-09-13T07:25:53.676498Z"
    }
   },
   "outputs": [],
   "source": [
    "print('Total de Valores Ausentes na Variável major_discipline:', new_df['major_discipline'].isna().sum())\n",
    "new_df['major_discipline'].value_counts(dropna = False)"
   ]
  },
  {
   "cell_type": "code",
   "execution_count": null,
   "metadata": {
    "ExecuteTime": {
     "end_time": "2021-09-13T07:25:54.221520Z",
     "start_time": "2021-09-13T07:25:53.704158Z"
    }
   },
   "outputs": [],
   "source": [
    "# Valores Ausentes da Variável major_discipline Após o Processamento\n",
    "sns.countplot(data = new_df.fillna('NaN'), x = 'major_discipline', alpha = 0.7, edgecolor = 'black')\n",
    "sns.despine()\n",
    "plt.xticks(rotation=45)\n",
    "bound=ax.get_xbound()\n",
    "ax=plt.gca()\n",
    "for p in ax.patches:\n",
    "    ax.annotate(f'\\n{p.get_height()}', (p.get_x()+0.4, p.get_height()), ha = 'center', color = 'black', size = 10)\n",
    "plt.title(\" Valores Ausentes da Variável major_discipline Após o Processamento\\n\", fontsize = 15)\n",
    "plt.show()"
   ]
  },
  {
   "cell_type": "code",
   "execution_count": null,
   "metadata": {},
   "outputs": [],
   "source": [
    "# Para os valores ausentes restantes preenchemos com 'Other'\n",
    "new_df[new_df['major_discipline'].isna()]  = 'Other'"
   ]
  },
  {
   "cell_type": "code",
   "execution_count": null,
   "metadata": {},
   "outputs": [],
   "source": [
    "# Valores Ausentes da Variável major_discipline Após o Processamento\n",
    "sns.countplot(data = new_df.fillna('NaN'), x = 'major_discipline', alpha = 0.7, edgecolor = 'black')\n",
    "sns.despine()\n",
    "plt.xticks(rotation=45)\n",
    "bound=ax.get_xbound()\n",
    "ax=plt.gca()\n",
    "for p in ax.patches:\n",
    "    ax.annotate(f'\\n{p.get_height()}', (p.get_x()+0.4, p.get_height()), ha = 'center', color = 'black', size = 10)\n",
    "plt.title(\" Valores Ausentes da Variável major_discipline Após o Processamento\\n\", fontsize = 15)\n",
    "plt.show()"
   ]
  },
  {
   "cell_type": "code",
   "execution_count": null,
   "metadata": {},
   "outputs": [],
   "source": [
    "new_df.head()"
   ]
  },
  {
   "cell_type": "markdown",
   "metadata": {},
   "source": [
    "#### Variável enrolled_university"
   ]
  },
  {
   "cell_type": "code",
   "execution_count": null,
   "metadata": {},
   "outputs": [],
   "source": [
    "# Plot\n",
    "sns.countplot(data = new_df.fillna('NaN'), x = 'enrolled_university', alpha = 0.7, edgecolor = 'black')\n",
    "sns.despine()\n",
    "plt.xticks()\n",
    "bound=ax.get_xbound()\n",
    "ax=plt.gca()\n",
    "for p in ax.patches:\n",
    "    ax.annotate(f'\\n{p.get_height()}', (p.get_x()+0.4, p.get_height()), ha = 'center', color = 'black', size = 10)\n",
    "plt.title(\"Valores Ausentes da Variável enrolled_university Antes do Processamento\\n\", fontsize = 15)\n",
    "plt.show()"
   ]
  },
  {
   "cell_type": "code",
   "execution_count": null,
   "metadata": {},
   "outputs": [],
   "source": [
    "print('\\nTotal de Valores Ausentes na Variável enrolled_university:', new_df['enrolled_university'].isna().sum())\n",
    "print('\\nProporção de Valores Ausentes na Variável education_level:')\n",
    "new_df[new_df['enrolled_university'].isna()]['education_level'].value_counts(dropna = False)"
   ]
  },
  {
   "cell_type": "markdown",
   "metadata": {},
   "source": [
    "Candidatos com `Primary School` como `education_level` não estão qualificados para ingressar na universidade. Portanto, preencheremos valores `NaN` em `education_level` para `Primary Grad`."
   ]
  },
  {
   "cell_type": "code",
   "execution_count": null,
   "metadata": {},
   "outputs": [],
   "source": [
    "# Prepara o índice\n",
    "nan_index = (new_df[(new_df['enrolled_university'].isna()) & (new_df['education_level']=='Primary School')]).index"
   ]
  },
  {
   "cell_type": "code",
   "execution_count": null,
   "metadata": {},
   "outputs": [],
   "source": [
    "len(nan_index)"
   ]
  },
  {
   "cell_type": "code",
   "execution_count": null,
   "metadata": {},
   "outputs": [],
   "source": [
    "# Imputação de valores ausentes\n",
    "new_df['enrolled_university'][nan_index] = 'Primary Grad'"
   ]
  },
  {
   "cell_type": "code",
   "execution_count": null,
   "metadata": {},
   "outputs": [],
   "source": [
    "print('Total de Valores Ausentes:', new_df['enrolled_university'].isna().sum())\n",
    "new_df[new_df['enrolled_university'].isna()]['education_level'].value_counts(dropna = False)"
   ]
  },
  {
   "cell_type": "code",
   "execution_count": null,
   "metadata": {},
   "outputs": [],
   "source": [
    "# Prepara o índice\n",
    "nan_index = new_df[(new_df['enrolled_university'].isna())].index"
   ]
  },
  {
   "cell_type": "code",
   "execution_count": null,
   "metadata": {},
   "outputs": [],
   "source": [
    "# O restante colocamos como 'Other'\n",
    "new_df['enrolled_university'][nan_index] = 'Other'"
   ]
  },
  {
   "cell_type": "code",
   "execution_count": null,
   "metadata": {},
   "outputs": [],
   "source": [
    "# Plot\n",
    "sns.countplot(data = new_df.fillna('NaN'), x = 'enrolled_university', alpha = 0.7, edgecolor = 'black')\n",
    "sns.despine()\n",
    "plt.xticks()\n",
    "bound=ax.get_xbound()\n",
    "ax=plt.gca()\n",
    "for p in ax.patches:\n",
    "    ax.annotate(f'\\n{p.get_height()}', (p.get_x()+0.4, p.get_height()), ha = 'center', color = 'black', size = 10)\n",
    "plt.title(\"Valores Ausentes da Variável enrolled_university Após o Processamento\\n\", fontsize = 15)\n",
    "plt.show()"
   ]
  },
  {
   "cell_type": "code",
   "execution_count": null,
   "metadata": {},
   "outputs": [],
   "source": [
    "new_df.head()"
   ]
  },
  {
   "cell_type": "markdown",
   "metadata": {},
   "source": [
    "#### Variável company_type"
   ]
  },
  {
   "cell_type": "code",
   "execution_count": null,
   "metadata": {},
   "outputs": [],
   "source": [
    "# Plot\n",
    "plt.figure(figsize = (20, 20))\n",
    "column_list = ['company_type']\n",
    "A = 0\n",
    "for i in column_list:\n",
    "    A+=1\n",
    "    plt.subplot(4,2,A)\n",
    "    ax = sns.countplot(data = new_df.fillna('NaN'), x = i, alpha = 0.7, edgecolor = 'black')\n",
    "    sns.despine() \n",
    "    plt.title(i, fontsize = 15)\n",
    "    for p in ax.patches:\n",
    "        ax.annotate(f'\\n{p.get_height()}', (p.get_x()+0.4, p.get_height()), ha = 'center', color = 'black', size = 12)\n",
    "    if A >=0:\n",
    "        plt.xticks(rotation = 45)"
   ]
  },
  {
   "cell_type": "code",
   "execution_count": null,
   "metadata": {},
   "outputs": [],
   "source": [
    "new_df['company_type'].value_counts(dropna = False)"
   ]
  },
  {
   "cell_type": "code",
   "execution_count": null,
   "metadata": {},
   "outputs": [],
   "source": [
    "# Índice\n",
    "nan_index = new_df[(new_df['company_type'].isna())].index"
   ]
  },
  {
   "cell_type": "code",
   "execution_count": null,
   "metadata": {},
   "outputs": [],
   "source": [
    "# Imputação dos valores NaN com 'Other'\n",
    "new_df['company_type'][nan_index] = 'Other'"
   ]
  },
  {
   "cell_type": "code",
   "execution_count": null,
   "metadata": {},
   "outputs": [],
   "source": [
    "# Plot\n",
    "plt.figure(figsize = (20, 20))\n",
    "column_list = ['company_type']\n",
    "A = 0\n",
    "for i in column_list:\n",
    "    A+=1\n",
    "    plt.subplot(4,2,A)\n",
    "    ax = sns.countplot(data = new_df.fillna('NaN'), x = i, alpha = 0.7, edgecolor = 'black')\n",
    "    sns.despine() \n",
    "    plt.title(i, fontsize = 15)\n",
    "    for p in ax.patches:\n",
    "        ax.annotate(f'\\n{p.get_height()}', (p.get_x()+0.4, p.get_height()), ha = 'center', color = 'black', size = 12)\n",
    "    if A >=0:\n",
    "        plt.xticks(rotation = 45)"
   ]
  },
  {
   "cell_type": "code",
   "execution_count": null,
   "metadata": {},
   "outputs": [],
   "source": [
    "new_df.head()"
   ]
  },
  {
   "cell_type": "markdown",
   "metadata": {},
   "source": [
    "#### Variável education_level"
   ]
  },
  {
   "cell_type": "code",
   "execution_count": null,
   "metadata": {},
   "outputs": [],
   "source": [
    "# Plot\n",
    "sns.countplot(data = new_df.fillna('NaN'), x = 'education_level', alpha = 0.7, edgecolor = 'black')\n",
    "sns.despine()\n",
    "plt.xticks()\n",
    "bound=ax.get_xbound()\n",
    "ax=plt.gca()\n",
    "for p in ax.patches:\n",
    "    ax.annotate(f'\\n{p.get_height()}', (p.get_x()+0.4, p.get_height()), ha = 'center', color = 'black', size = 10)\n",
    "plt.title(\"Valores Ausentes da Variável education_level Antes do Processamento\\n\", fontsize = 15)\n",
    "plt.show()"
   ]
  },
  {
   "cell_type": "code",
   "execution_count": null,
   "metadata": {},
   "outputs": [],
   "source": [
    "# Índice\n",
    "nan_index = new_df[(new_df['education_level'].isna())].index"
   ]
  },
  {
   "cell_type": "code",
   "execution_count": null,
   "metadata": {},
   "outputs": [],
   "source": [
    "# Imputação dos valores NaN com 'Other'\n",
    "new_df['education_level'][nan_index] = 'Other'"
   ]
  },
  {
   "cell_type": "code",
   "execution_count": null,
   "metadata": {},
   "outputs": [],
   "source": [
    "# Plot\n",
    "sns.countplot(data = new_df.fillna('NaN'), x = 'education_level', alpha = 0.7, edgecolor = 'black')\n",
    "sns.despine()\n",
    "plt.xticks()\n",
    "bound=ax.get_xbound()\n",
    "ax=plt.gca()\n",
    "for p in ax.patches:\n",
    "    ax.annotate(f'\\n{p.get_height()}', (p.get_x()+0.4, p.get_height()), ha = 'center', color = 'black', size = 10)\n",
    "plt.title(\"Valores Ausentes da Variável education_level Após do Processamento\\n\", fontsize = 15)\n",
    "plt.show()"
   ]
  },
  {
   "cell_type": "code",
   "execution_count": null,
   "metadata": {},
   "outputs": [],
   "source": [
    "new_df.head()"
   ]
  },
  {
   "cell_type": "markdown",
   "metadata": {},
   "source": [
    "#### Variável experience"
   ]
  },
  {
   "cell_type": "code",
   "execution_count": null,
   "metadata": {},
   "outputs": [],
   "source": [
    "new_df.info()"
   ]
  },
  {
   "cell_type": "code",
   "execution_count": null,
   "metadata": {},
   "outputs": [],
   "source": [
    "new_df['experience'].value_counts(dropna = False)"
   ]
  },
  {
   "cell_type": "code",
   "execution_count": null,
   "metadata": {},
   "outputs": [],
   "source": [
    "# Percentual de valores ausentes\n",
    "percent_missing = new_df.isnull().sum() / len(new_df) * 100\n",
    "percent_missing"
   ]
  },
  {
   "cell_type": "code",
   "execution_count": null,
   "metadata": {},
   "outputs": [],
   "source": [
    "new_df['experience'].isnull().sum()"
   ]
  },
  {
   "cell_type": "code",
   "execution_count": null,
   "metadata": {},
   "outputs": [],
   "source": [
    "new_df.shape"
   ]
  },
  {
   "cell_type": "code",
   "execution_count": null,
   "metadata": {},
   "outputs": [],
   "source": [
    "new_df = new_df.dropna()"
   ]
  },
  {
   "cell_type": "code",
   "execution_count": null,
   "metadata": {},
   "outputs": [],
   "source": [
    "new_df.shape"
   ]
  },
  {
   "cell_type": "code",
   "execution_count": null,
   "metadata": {},
   "outputs": [],
   "source": [
    "percent_missing = new_df.isnull().sum() * 100 / len(new_df)\n",
    "percent_missing"
   ]
  },
  {
   "cell_type": "code",
   "execution_count": null,
   "metadata": {},
   "outputs": [],
   "source": [
    "# Valores ausentes por coluna\n",
    "null_df = new_df.isna().sum().reset_index()\n",
    "\n",
    "# Figura\n",
    "ax = plt.figure(figsize = (15,6))\n",
    "\n",
    "# Barplot\n",
    "ax = sns.barplot(null_df['index'], null_df[0], palette = 'husl')\n",
    "plt.xlabel('Atributos', fontsize = 12)\n",
    "plt.ylabel('Contagem de Valores Ausentes', fontsize = 12)\n",
    "plt.xticks(rotation = 45)\n",
    "plt.title(\"Plot de Valores Ausentes\", fontsize = 15)\n",
    "\n",
    "for p in ax.patches:\n",
    "    ax.annotate(f'\\n{p.get_height()}', (p.get_x()+0.4, (p.get_height())), ha = 'center', color = 'black', size = 11)\n",
    "\n",
    "plt.show()"
   ]
  },
  {
   "cell_type": "markdown",
   "metadata": {},
   "source": [
    "### Ajustes Finais"
   ]
  },
  {
   "cell_type": "code",
   "execution_count": null,
   "metadata": {},
   "outputs": [],
   "source": [
    "new_df.head()"
   ]
  },
  {
   "cell_type": "code",
   "execution_count": null,
   "metadata": {
    "ExecuteTime": {
     "end_time": "2021-09-09T10:06:11.290326Z",
     "start_time": "2021-09-09T10:06:11.276331Z"
    }
   },
   "outputs": [],
   "source": [
    "# Ajustando os dados\n",
    "new_df['enrolled_university'] = new_df['enrolled_university'].replace('no_enrollment', 'No enrollment')"
   ]
  },
  {
   "cell_type": "code",
   "execution_count": null,
   "metadata": {},
   "outputs": [],
   "source": [
    "new_df.head()"
   ]
  },
  {
   "cell_type": "code",
   "execution_count": null,
   "metadata": {
    "ExecuteTime": {
     "end_time": "2021-09-09T10:06:11.384369Z",
     "start_time": "2021-09-09T10:06:11.370376Z"
    }
   },
   "outputs": [],
   "source": [
    "x = new_df.drop(columns = ['target'])\n",
    "y = new_df['target']"
   ]
  },
  {
   "cell_type": "markdown",
   "metadata": {},
   "source": [
    "## Relatório Final"
   ]
  },
  {
   "cell_type": "markdown",
   "metadata": {},
   "source": [
    "Com base em nossa análise observamos que as variáveis mais relevantes para identificar um bom candidato são:\n",
    "\n",
    "- Índice de Desenvolvimento da cidade onde mora o candidato.\n",
    "- Tempo de experiência profissional.\n",
    "- Se está ou não matriculado em um curso universitário.\n",
    "- Se tem ou não experiência relevante.\n",
    "- O nível educacional.\n",
    "- O tipo de empresa que o candidato trabalhou ou trabalha atualmente.\n",
    "- A especialização na graduação (quando for o caso).\n",
    "\n",
    "Não são relevantes para a análise:\n",
    "\n",
    "- O ID do candidato.\n",
    "- O código da cidade do candidato.\n",
    "- O gênero.\n",
    "- A última vez que o candidato esteve empregado.\n",
    "- O tamanho da empresa (quando for o caso).\n",
    "- Total de horas de treimamento.\n",
    "\n",
    "\n",
    "**Recomendações do Analista de Dados**:\n",
    "\n",
    "- O RH pode desenvolver um método de coleta de dados para obter outros recursos a fim de melhorar a qualidade dos dados e tornar o trabalho de análise mais preciso.\n",
    "\n",
    "- O RH pode procurar candidatos que vêm de cidades com índice de desenvolvimento urbano mais baixo, sem experiência relevante, nível de educação superior e menor experiência de trabalho para ter maior chance de encontrar candidatos que estão procurando um emprego.\n",
    "\n",
    "- O RH pode tornar o treinamento mais compacto porque muitas pessoas não precisam de muito tempo para concluir o treinamento."
   ]
  },
  {
   "cell_type": "markdown",
   "metadata": {},
   "source": [
    "# Fim"
   ]
  }
 ],
 "metadata": {
  "kernelspec": {
   "display_name": "Python 3 (ipykernel)",
   "language": "python",
   "name": "python3"
  },
  "language_info": {
   "codemirror_mode": {
    "name": "ipython",
    "version": 3
   },
   "file_extension": ".py",
   "mimetype": "text/x-python",
   "name": "python",
   "nbconvert_exporter": "python",
   "pygments_lexer": "ipython3",
   "version": "3.11.7"
  },
  "toc": {
   "base_numbering": 1,
   "nav_menu": {},
   "number_sections": true,
   "sideBar": true,
   "skip_h1_title": false,
   "title_cell": "Table of Contents",
   "title_sidebar": "Contents",
   "toc_cell": false,
   "toc_position": {
    "height": "calc(100% - 180px)",
    "left": "10px",
    "top": "150px",
    "width": "320.263px"
   },
   "toc_section_display": true,
   "toc_window_display": true
  }
 },
 "nbformat": 4,
 "nbformat_minor": 4
}
